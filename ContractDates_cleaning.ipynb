{
 "cells": [
  {
   "cell_type": "code",
   "execution_count": 1,
   "id": "0061ffa5",
   "metadata": {},
   "outputs": [],
   "source": [
    "import pandas as pd"
   ]
  },
  {
   "cell_type": "code",
   "execution_count": 2,
   "id": "c0b608a3",
   "metadata": {},
   "outputs": [],
   "source": [
    "url09 = \"https://raw.githubusercontent.com/edb-313/Football_players_trasfer_value/main/ContractDate/transfers_benfica_2009.csv\"\n",
    "contr09 = pd.read_csv(url09)"
   ]
  },
  {
   "cell_type": "code",
   "execution_count": 3,
   "id": "abb981b7",
   "metadata": {},
   "outputs": [],
   "source": [
    "url10 = \"https://raw.githubusercontent.com/edb-313/Football_players_trasfer_value/main/ContractDate/transfers_benfica_2010.csv\"\n",
    "contr10 = pd.read_csv(url10)"
   ]
  },
  {
   "cell_type": "code",
   "execution_count": 4,
   "id": "ebcf6cdf",
   "metadata": {},
   "outputs": [],
   "source": [
    "url11 = \"https://raw.githubusercontent.com/edb-313/Football_players_trasfer_value/main/ContractDate/transfers_benfica_2011.csv\"\n",
    "contr11 = pd.read_csv(url11)"
   ]
  },
  {
   "cell_type": "code",
   "execution_count": 5,
   "id": "7c1098fb",
   "metadata": {},
   "outputs": [],
   "source": [
    "url12 = \"https://raw.githubusercontent.com/edb-313/Football_players_trasfer_value/main/ContractDate/transfers_benfica_2012.csv\"\n",
    "contr12 = pd.read_csv(url12)"
   ]
  },
  {
   "cell_type": "code",
   "execution_count": 6,
   "id": "757308ec",
   "metadata": {},
   "outputs": [],
   "source": [
    "url13 = \"https://raw.githubusercontent.com/edb-313/Football_players_trasfer_value/main/ContractDate/transfers_benfica_2013.csv\"\n",
    "contr13 = pd.read_csv(url13)"
   ]
  },
  {
   "cell_type": "code",
   "execution_count": 7,
   "id": "d7daa6e2",
   "metadata": {},
   "outputs": [],
   "source": [
    "url14 = \"https://raw.githubusercontent.com/edb-313/Football_players_trasfer_value/main/ContractDate/transfers_benfica_2014.csv\"\n",
    "contr14 = pd.read_csv(url14)"
   ]
  },
  {
   "cell_type": "code",
   "execution_count": 8,
   "id": "0c20dac3",
   "metadata": {},
   "outputs": [],
   "source": [
    "url15 = \"https://raw.githubusercontent.com/edb-313/Football_players_trasfer_value/main/ContractDate/transfers_benfica_2015.csv\"\n",
    "contr15 = pd.read_csv(url15)"
   ]
  },
  {
   "cell_type": "code",
   "execution_count": 9,
   "id": "2c7d2bcd",
   "metadata": {},
   "outputs": [],
   "source": [
    "url16 = \"https://raw.githubusercontent.com/edb-313/Football_players_trasfer_value/main/ContractDate/transfers_benfica_2016.csv\"\n",
    "contr16 = pd.read_csv(url16)"
   ]
  },
  {
   "cell_type": "code",
   "execution_count": 10,
   "id": "351fd559",
   "metadata": {},
   "outputs": [],
   "source": [
    "url17 = \"https://raw.githubusercontent.com/edb-313/Football_players_trasfer_value/main/ContractDate/transfers_benfica_2017.csv\"\n",
    "contr17 = pd.read_csv(url17)"
   ]
  },
  {
   "cell_type": "code",
   "execution_count": 11,
   "id": "c098b914",
   "metadata": {},
   "outputs": [],
   "source": [
    "url18 = \"https://raw.githubusercontent.com/edb-313/Football_players_trasfer_value/main/ContractDate/transfers_benfica_2018.csv\"\n",
    "contr18 = pd.read_csv(url18)"
   ]
  },
  {
   "cell_type": "code",
   "execution_count": 12,
   "id": "2bfe724a",
   "metadata": {},
   "outputs": [],
   "source": [
    "url19 = \"https://raw.githubusercontent.com/edb-313/Football_players_trasfer_value/main/ContractDate/transfers_benfica_2019.csv\"\n",
    "contr19 = pd.read_csv(url19)"
   ]
  },
  {
   "cell_type": "code",
   "execution_count": 13,
   "id": "9264b9a4",
   "metadata": {},
   "outputs": [],
   "source": [
    "url20 = \"https://raw.githubusercontent.com/edb-313/Football_players_trasfer_value/main/ContractDate/transfers_benfica_2020.csv\"\n",
    "contr20 = pd.read_csv(url20)"
   ]
  },
  {
   "cell_type": "code",
   "execution_count": 14,
   "id": "874190d5",
   "metadata": {},
   "outputs": [],
   "source": [
    "url21 = \"https://raw.githubusercontent.com/edb-313/Football_players_trasfer_value/main/ContractDate/transfers_benfica_2021.csv\"\n",
    "contr21 = pd.read_csv(url21)"
   ]
  },
  {
   "cell_type": "code",
   "execution_count": 15,
   "id": "92f601d5",
   "metadata": {},
   "outputs": [],
   "source": [
    "url22 = \"https://raw.githubusercontent.com/edb-313/Football_players_trasfer_value/main/ContractDate/transfers_benfica_2022.csv\"\n",
    "contr22 = pd.read_csv(url22)"
   ]
  },
  {
   "cell_type": "code",
   "execution_count": 16,
   "id": "1afd9126",
   "metadata": {},
   "outputs": [],
   "source": [
    "full = pd.concat([contr09,contr10,contr11,contr12,contr13,contr14,contr15,contr16,contr17,contr18,contr19,contr20,contr21,contr22])"
   ]
  },
  {
   "cell_type": "code",
   "execution_count": 17,
   "id": "2f75371c",
   "metadata": {},
   "outputs": [],
   "source": [
    "full.drop(['team_to','contract_expiry'],axis=1,inplace = True)"
   ]
  },
  {
   "cell_type": "code",
   "execution_count": 22,
   "id": "4064183f",
   "metadata": {},
   "outputs": [
    {
     "name": "stdout",
     "output_type": "stream",
     "text": [
      "<class 'pandas.core.frame.DataFrame'>\n",
      "Int64Index: 276 entries, 0 to 5\n",
      "Data columns (total 3 columns):\n",
      " #   Column          Non-Null Count  Dtype  \n",
      "---  ------          --------------  -----  \n",
      " 0   player_name     276 non-null    object \n",
      " 1   tf_season       276 non-null    int64  \n",
      " 2   days_remaining  276 non-null    float64\n",
      "dtypes: float64(1), int64(1), object(1)\n",
      "memory usage: 8.6+ KB\n"
     ]
    }
   ],
   "source": [
    "full.info()"
   ]
  },
  {
   "cell_type": "code",
   "execution_count": 21,
   "id": "9f16ea0e",
   "metadata": {},
   "outputs": [],
   "source": [
    "full.drop_duplicates(inplace=True)\n",
    "full.dropna(inplace=True)"
   ]
  },
  {
   "cell_type": "code",
   "execution_count": 23,
   "id": "2f32650c",
   "metadata": {},
   "outputs": [],
   "source": [
    "full.to_csv('C:/Users/39329/Documents/GitHub/Football_players_trasfer_value/ContractDate/ContractDates_cleaned.csv', index=False)"
   ]
  },
  {
   "cell_type": "code",
   "execution_count": null,
   "id": "0b0b583a",
   "metadata": {},
   "outputs": [],
   "source": []
  }
 ],
 "metadata": {
  "kernelspec": {
   "display_name": "Python 3 (ipykernel)",
   "language": "python",
   "name": "python3"
  },
  "language_info": {
   "codemirror_mode": {
    "name": "ipython",
    "version": 3
   },
   "file_extension": ".py",
   "mimetype": "text/x-python",
   "name": "python",
   "nbconvert_exporter": "python",
   "pygments_lexer": "ipython3",
   "version": "3.9.13"
  }
 },
 "nbformat": 4,
 "nbformat_minor": 5
}
